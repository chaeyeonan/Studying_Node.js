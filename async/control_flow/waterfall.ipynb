{
 "cells": [
  {
   "cell_type": "markdown",
   "metadata": {},
   "source": [
    "### [watefall 함수](https://caolan.github.io/async/v3/docs.html#waterfall)\n",
    "\n",
    "```jsx\n",
    "import waterfall from 'async/waterfall';\n",
    "\n",
    "waterfall(tasks, callbackopt)\n",
    "```\n",
    "\n",
    "함수들의 배열(`tasks`)을 순서대로 실행하며, 각 함수의 결과를 다음 함수에 전달하는 역할. 여러 비동기 작업을 순차적으로 실행하며, 각 작업의 결과를 다음 작업으로 전달하는 방식으로 작동. 어떤 작업에서 오류가 발생하면, 나머지 작업은 중단되고 즉시 오류 처리가 이루어진다\n",
    "\n",
    "| Name | Type | Description |\n",
    "| --- | --- | --- |\n",
    "| tasks | Array | 비동기 함수들의 배열입니다. 각 함수는 하나 이상의 결과 값을 완료해야 하며, 이 결과 값들은 순서대로 다음 작업의 인자로 전달됩니다. |\n",
    "| callback | function <optional> | 모든 함수가 완료된 후에 실행될 선택적 콜백입니다. 이 콜백은 마지막 작업의 콜백 결과를 받게 됩니다. 오류(err)와 결과([results])를 인자로 받아 호출됩니다. |\n",
    "\n",
    "`tasks` 배열의 어떤 함수가 자체 콜백에 오류를 전달하면, 다음 함수는 실행되지 않고, 주 콜백이 즉시 오류와 함께 호출된다\n",
    "\n",
    "**반환값**\n",
    "\n",
    "- 콜백이 생략되면, 함수는 프로미스(Promise)를 반환"
   ]
  },
  {
   "cell_type": "code",
   "execution_count": 1,
   "metadata": {},
   "outputs": [],
   "source": [
    "const async = require('async');"
   ]
  },
  {
   "cell_type": "markdown",
   "metadata": {},
   "source": [
    "##### waterfall 예시코드(1) - callback 함수 사용"
   ]
  },
  {
   "cell_type": "code",
   "execution_count": 2,
   "metadata": {},
   "outputs": [],
   "source": [
    "async.waterfall([\n",
    "    function(callback) {\n",
    "        callback(null, 'one', 'two');\n",
    "    },\n",
    "    function(arg1, arg2, callback) {\n",
    "        // arg1 now equals 'one' and arg2 now equals 'two'\n",
    "        callback(null, 'three');\n",
    "    },\n",
    "    function(arg1, callback) {\n",
    "        // arg1 now equals 'three'\n",
    "        callback(null, 'done');\n",
    "    }\n",
    "], function (err, result) {\n",
    "    // result now equals 'done'\n",
    "});"
   ]
  },
  {
   "cell_type": "markdown",
   "metadata": {},
   "source": [
    "##### waterfall 예시코드(2) - callback 함수 사용"
   ]
  },
  {
   "cell_type": "code",
   "execution_count": null,
   "metadata": {},
   "outputs": [],
   "source": [
    "const asyncWaterfall = require('async/waterfall');\n",
    "const fs = require('fs');\n",
    "const { parse } = require('some-data-parsing-library');\n",
    "const database = require('some-database-library');\n",
    "\n",
    "asyncWaterfall([\n",
    "    // 첫 번째 단계: 파일 읽기\n",
    "    function(callback) {\n",
    "        fs.readFile('path/to/file.txt', 'utf8', function(err, data) {\n",
    "            if (err) {\n",
    "                return callback(err);\n",
    "            }\n",
    "            callback(null, data);\n",
    "        });\n",
    "    },\n",
    "    // 두 번째 단계: 파일 내용 분석\n",
    "    function(fileData, callback) {\n",
    "        try {\n",
    "            const parsedData = parse(fileData);\n",
    "            callback(null, parsedData);\n",
    "        } catch (err) {\n",
    "            callback(err);\n",
    "        }\n",
    "    },\n",
    "    // 세 번째 단계: 데이터베이스에 저장\n",
    "    function(parsedData, callback) {\n",
    "        database.save(parsedData, function(err, result) {\n",
    "            if (err) {\n",
    "                return callback(err);\n",
    "            }\n",
    "            callback(null, result);\n",
    "        });\n",
    "    }\n",
    "], function(err, finalResult) {\n",
    "    if (err) {\n",
    "        console.error('작업 중 에러 발생:', err);\n",
    "        return;\n",
    "    }\n",
    "    console.log('최종 결과:', finalResult);\n",
    "});"
   ]
  },
  {
   "cell_type": "markdown",
   "metadata": {},
   "source": [
    "##### waterfall 예제코드(3) - Promise (then/catch) 사용"
   ]
  },
  {
   "cell_type": "code",
   "execution_count": null,
   "metadata": {},
   "outputs": [],
   "source": [
    "const fs = require('fs').promises;\n",
    "const { parse } = require('some-data-parsing-library');\n",
    "const database = require('some-database-library');\n",
    "\n",
    "// 첫 번째 단계: 파일 읽기\n",
    "fs.readFile('path/to/file.txt', 'utf8')\n",
    "    .then(fileData => {\n",
    "        // 두 번째 단계: 파일 내용 분석\n",
    "        return parse(fileData);\n",
    "    })\n",
    "    .then(parsedData => {\n",
    "        // 세 번째 단계: 데이터베이스에 저장\n",
    "        return database.save(parsedData);\n",
    "    })\n",
    "    .then(result => {\n",
    "        // 모든 작업이 성공적으로 완료됨\n",
    "        console.log('최종 결과:', result);\n",
    "    })\n",
    "    .catch(err => {\n",
    "        // 오류 처리\n",
    "        console.error('작업 중 에러 발생:', err);\n",
    "    });"
   ]
  },
  {
   "cell_type": "markdown",
   "metadata": {},
   "source": [
    "##### waterfall 예제코드(4) -  async/await 사용"
   ]
  },
  {
   "cell_type": "code",
   "execution_count": null,
   "metadata": {},
   "outputs": [],
   "source": [
    "const fs = require('fs').promises;\n",
    "const { parse } = require('some-data-parsing-library');\n",
    "const database = require('some-database-library');\n",
    "\n",
    "async function processFile() {\n",
    "    try {\n",
    "        // 첫 번째 단계: 파일 읽기\n",
    "        const fileData = await fs.readFile('path/to/file.txt', 'utf8');\n",
    "\n",
    "        // 두 번째 단계: 파일 내용 분석\n",
    "        const parsedData = parse(fileData);\n",
    "\n",
    "        // 세 번째 단계: 데이터베이스에 저장\n",
    "        const result = await database.save(parsedData);\n",
    "\n",
    "        console.log('최종 결과:', result);\n",
    "    } catch (err) {\n",
    "        console.error('작업 중 에러 발생:', err);\n",
    "    }\n",
    "}\n",
    "\n",
    "processFile();"
   ]
  },
  {
   "cell_type": "markdown",
   "metadata": {},
   "source": [
    "- parse는 동기적으로 실행되는 함수이기 때문에 굳이 await 붙이지않음"
   ]
  }
 ],
 "metadata": {
  "kernelspec": {
   "display_name": "JavaScript (Node.js)",
   "language": "javascript",
   "name": "javascript"
  },
  "language_info": {
   "file_extension": ".js",
   "mimetype": "application/javascript",
   "name": "javascript",
   "version": "20.10.0"
  }
 },
 "nbformat": 4,
 "nbformat_minor": 2
}
