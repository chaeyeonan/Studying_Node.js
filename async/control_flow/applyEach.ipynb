{
 "cells": [
  {
   "cell_type": "markdown",
   "metadata": {},
   "source": [
    "# [Node.js] async 라이브러리 - Control Flow"
   ]
  },
  {
   "cell_type": "markdown",
   "metadata": {},
   "source": [
    "### applyEach 함수\n",
    "\n",
    "```jsx\n",
    "applyEach(fns, …args(opt), callback(opt))\n",
    "```\n",
    "\n",
    "주어진 인자들을 함수 배열의 각 함수에 적용한 후, 모든 함수가 완료되면 콜백을 호출하는 함수\n",
    "\n",
    "| Name | Type | Description |\n",
    "| --- | --- | --- |\n",
    "| fns | Array, Iterable , AsyncIterable , Object | 비동기 함수들의 배열이나 컬렉션입니다. 이 함수들은 모두 동일한 인자들을 받아 호출됩니다. |\n",
    "| args | * <optional> | 함수들에 전달될 인자들입니다. 이 인자들은 각 함수에 별도로 전달됩니다. |\n",
    "| callback | function <optional> | 모든 함수의 처리가 완료되었을 때 호출되는 콜백 함수입니다. 이 콜백은 각 함수의 결과를 배열로 받아 처리합니다. |\n",
    "\n",
    "**전달하는 인수(args)가 없을 경우**\n",
    "\n",
    "- **함수 반환 →** 첫 번째 인자(**`fns`**)만 제공되면, **`async/applyEach`**는 인자들을 적용할 준비가 된 함수를 반환합니다. 이 반환된 함수는 나중에 호출될 때 인자들을 받을 수 있습니다.\n",
    "\n",
    "**전달하는 인수(args)가 있을 경우**\n",
    "\n",
    "- **직접 호출 →** 함수 배열과 함께 인자들을 제공하면, **`async/applyEach`**는 이 인자들을 각 함수에 적용하고, 모든 함수가 완료되면 콜백을 호출합니다."
   ]
  },
  {
   "cell_type": "markdown",
   "metadata": {},
   "source": [
    "#### **주의할 점**\n",
    "\n",
    "##### 1. **넘겨주는 인자와, 함수의 인자 개수가 일치해야 한다.**"
   ]
  },
  {
   "cell_type": "code",
   "execution_count": 1,
   "metadata": {},
   "outputs": [],
   "source": [
    "const async=require('async');"
   ]
  },
  {
   "cell_type": "code",
   "execution_count": 2,
   "metadata": {},
   "outputs": [
    {
     "data": {
      "text/plain": [
       "Promise { <pending> }"
      ]
     },
     "execution_count": 2,
     "metadata": {},
     "output_type": "execute_result"
    },
    {
     "name": "stdout",
     "output_type": "stream",
     "text": [
      "First function: 1\n",
      "1\n",
      "Second function: 2\n",
      "2\n"
     ]
    }
   ],
   "source": [
    "function firstFunction(arg1, arg2, callback) {\n",
    "    setTimeout(function () {\n",
    "        console.log('First function:', arg1);\n",
    "        callback(null, arg1);\n",
    "    }, 1000);\n",
    "}\n",
    "function secondFunction(arg1, arg2, callback) {\n",
    "    setTimeout(function () {\n",
    "        console.log('Second function:', arg2);\n",
    "        callback(null, arg2);\n",
    "    }, 2000);\n",
    "}\n",
    "const func = async.applyEach([firstFunction, secondFunction], 1, 2, function (err, result) {\n",
    "    if (err) {\n",
    "        console.log(err)\n",
    "    } else {\n",
    "        console.log(result)\n",
    "    }\n",
    "});\n",
    "func();"
   ]
  },
  {
   "cell_type": "markdown",
   "metadata": {},
   "source": [
    "이렇게 인자 (1,2) 2개를 넘겨주고 싶다면 받는 함수의 인자 개수도 2개가 되어야한다. 만일"
   ]
  },
  {
   "cell_type": "code",
   "execution_count": 5,
   "metadata": {},
   "outputs": [
    {
     "ename": "SyntaxError",
     "evalue": "Identifier 'func1' has already been declared",
     "output_type": "error",
     "traceback": [
      "evalmachine.<anonymous>:1",
      "function firstFunction1(arg, callback) {",
      "^",
      "",
      "SyntaxError: Identifier 'func1' has already been declared",
      "    at Script.runInThisContext (node:vm:121:12)",
      "    at Object.runInThisContext (node:vm:295:38)",
      "    at run ([eval]:1020:15)",
      "    at onRunRequest ([eval]:864:18)",
      "    at onMessage ([eval]:828:13)",
      "    at process.emit (node:events:514:28)",
      "    at emit (node:internal/child_process:951:14)",
      "    at process.processTicksAndRejections (node:internal/process/task_queues:83:21)"
     ]
    }
   ],
   "source": [
    "function firstFunction1(arg, callback) {\n",
    "    setTimeout(function () {\n",
    "        console.log('First function:', arg1);\n",
    "        callback(null, arg);\n",
    "    }, 1000);\n",
    "}\n",
    "function secondFunction1(arg, callback) {\n",
    "    setTimeout(function () {\n",
    "        console.log('Second function:', arg2);\n",
    "        callback(null, arg);\n",
    "    }, 2000);\n",
    "}\n",
    "\n",
    "const func1 = async.applyEach([firstFunction1, secondFunction1], 1, 2, function (err, result) {\n",
    "    if (err) {\n",
    "        console.log(err)\n",
    "    } else {\n",
    "        console.log(result)\n",
    "    }\n",
    "});"
   ]
  },
  {
   "cell_type": "markdown",
   "metadata": {},
   "source": [
    "이렇게 함수 파라미터 개수가 일치하지 않으면 오류가 발생한다."
   ]
  },
  {
   "cell_type": "markdown",
   "metadata": {},
   "source": [
    "##### 2. **applyEach 는 함수를 반환하는 함수다.** \n",
    "    \n",
    "`async.applyEach`는 다른 `async` 모듈 함수들과 달리, 즉시 비동기 작업을 시작하는 것이 아니라, 실행할 준비가 된 **함수를 반환하는 함수**다. `async.applyEach`를 호출하면, 그 결과로 함수가 반환되기 때문에 반환된 함수는 나중에 호출되어야 비동기 작업을 시작한다. \n",
    "    \n",
    "함수호출 방법엔 아래 2가지 방법이 있다."
   ]
  },
  {
   "cell_type": "markdown",
   "metadata": {},
   "source": [
    "2-1. **변수에 함수 할당 후 호출 (3-1의 경우)**\n",
    "\n",
    "반환된 함수를 변수에 할당하고, 이 변수를 사용하여 함수를 나중에 호출할 수 있다"
   ]
  },
  {
   "cell_type": "code",
   "execution_count": 6,
   "metadata": {},
   "outputs": [
    {
     "name": "stdout",
     "output_type": "stream",
     "text": [
      "First function: 1\n"
     ]
    },
    {
     "name": "stderr",
     "output_type": "stream",
     "text": [
      "TypeError: callback is not a function\n",
      "    at Timeout._onTimeout (evalmachine.<anonymous>:4:9)\n",
      "    at listOnTimeout (node:internal/timers:573:17)\n",
      "    at process.processTimers (node:internal/timers:514:7)"
     ]
    },
    {
     "name": "stdout",
     "output_type": "stream",
     "text": [
      "Second function: 2\n"
     ]
    }
   ],
   "source": [
    "const appliedFunctions = async.applyEach([firstFunction, secondFunction], 1, 2);\n",
    "\n",
    "appliedFunctions(function(err, results) {\n",
    "    // 콜백 로직\n",
    "});"
   ]
  },
  {
   "cell_type": "markdown",
   "metadata": {},
   "source": [
    "여기서 `appliedFunctions`는 `async.applyEach`에 의해 반환된 함수다. 이 함수는 비동기 작업을 시작할 준비가 되었으며, 실제로 작업을 시작하려면 `appliedFunctions()`를 호출해야한다"
   ]
  },
  {
   "cell_type": "markdown",
   "metadata": {},
   "source": [
    "2-2. . **바로 호출 (`()`를 사용) (3-2의 경우)**\n",
    "\n",
    "반환된 함수를 바로 호출할 수도 있다. 이는 `async.applyEach`의 호출과 반환된 함수의 호출을 한 줄로 결합한다."
   ]
  },
  {
   "cell_type": "code",
   "execution_count": null,
   "metadata": {},
   "outputs": [],
   "source": [
    "async.applyEach([firstFunction, secondFunction], 1, 2, function(err, results) {\n",
    "    // 콜백 로직\n",
    "})();"
   ]
  },
  {
   "cell_type": "markdown",
   "metadata": {},
   "source": [
    "이 코드는 `async.applyEach`가 반환한 함수를 바로 호출합니다. `()`는 바로 함수를 호출하는 JavaScript의 표준 문법이다. <br/>\n",
    "결론적으로, `async.applyEach`는 즉시 실행되는 것이 아니라, 나중에 호출할 수 있는 함수를 반환한다. 이 함수는 비동기 작업을 시작하며, 작업이 완료되면 제공된 콜백을 실행한다."
   ]
  },
  {
   "cell_type": "markdown",
   "metadata": {},
   "source": [
    "##### 3. **콜백함수를 파라미터에 넣냐vs안넣냐에 따라 실행 순서가 달라진다**\n",
    "    \n",
    "콜백함수가 optional이다. 콜백함수가 있냐/없냐, 파라미터에 포함이 되냐/안되냐에 따라서 실행순서가 달라지고, blocking 되는 것이 달라진다.\n",
    "    \n",
    "3-1. 콜백함수가 따로 선언이 되는 경우 (파라미터에 포함 X)"
   ]
  },
  {
   "cell_type": "code",
   "execution_count": 7,
   "metadata": {},
   "outputs": [
    {
     "name": "stdout",
     "output_type": "stream",
     "text": [
      "First function: 1\n",
      "Second function: 2\n",
      "Results: [ 1, 2 ]\n"
     ]
    }
   ],
   "source": [
    "// 비동기 함수들 정의\n",
    "function firstFunction(arg, callback) {\n",
    "    setTimeout(function () {\n",
    "        console.log('First function:', arg[0]);\n",
    "        callback(null, arg[0]);\n",
    "    }, 1000);\n",
    "}\n",
    "\n",
    "function secondFunction(arg, callback) {\n",
    "    setTimeout(function () {\n",
    "        console.log('Second function:', arg[1]);\n",
    "        callback(null, arg[1]);\n",
    "    }, 1000);\n",
    "}\n",
    "\n",
    "// applyEach를 사용하여 두 함수에 적용할 새로운 함수 생성\n",
    "const applyFunctions = async.applyEach([firstFunction, secondFunction], [1,2]);\n",
    "\n",
    "// 생성된 함수 호출\n",
    "applyFunctions(function (err, results) {\n",
    "    if (err) {\n",
    "        console.log('Error:', err);\n",
    "    } else {\n",
    "        console.log('Results:', results);\n",
    "    }\n",
    "});"
   ]
  },
  {
   "cell_type": "markdown",
   "metadata": {},
   "source": [
    "이렇게 콜백 함수를 따로 작성하면, 배열안에 있는 함수가 전부 실행된 후에 콜백함수가 실행된다. 위 예시의 경우, `firstFunction`과 `secondFunction`이 모두 실행이 된 다음의 각각의 결과값을 배열로 받아 `results`로 콘솔에 출력한다."
   ]
  },
  {
   "cell_type": "markdown",
   "metadata": {},
   "source": [
    "3-2. 콜백함수가 파라미터에 포함되는 경우"
   ]
  },
  {
   "cell_type": "code",
   "execution_count": 8,
   "metadata": {},
   "outputs": [
    {
     "data": {
      "text/plain": [
       "Promise { <pending> }"
      ]
     },
     "execution_count": 8,
     "metadata": {},
     "output_type": "execute_result"
    },
    {
     "name": "stdout",
     "output_type": "stream",
     "text": [
      "First function: 1\n",
      "1\n",
      "Second function: 2\n",
      "2\n"
     ]
    }
   ],
   "source": [
    "function firstFunction(arg1, arg2, callback) {\n",
    "    setTimeout(function () {\n",
    "        console.log('First function:', arg1);\n",
    "        callback(null, arg1);\n",
    "    }, 1000);\n",
    "}\n",
    "function secondFunction(arg1, arg2, callback) {\n",
    "    setTimeout(function () {\n",
    "        console.log('Second function:', arg2);\n",
    "        callback(null, arg2);\n",
    "    }, 1000);\n",
    "}\n",
    "\n",
    "// applyEach를 사용하여 두 함수를 호출\n",
    "async.applyEach([firstFunction, secondFunction], 1, 2, function (err, result){\n",
    "    if (err) {\n",
    "        console.log(err)\n",
    "    } else {\n",
    "        console.log(result)\n",
    "    }\n",
    "})();"
   ]
  },
  {
   "cell_type": "markdown",
   "metadata": {},
   "source": [
    "콜백 함수가 파라미터에 포함되면, 배열 안 함수가 모두 호출 된 다음 콜백 함수가 실행되는 것이 아니라, 각각의 함수가 실행한 직후 콜백 함수가 바로 실행된다. 위 예시의 경우 `firstFunction`이 완료되면 콜백함수가 실행되고, `secondFunction`이 완료된 후 또 콜백 함수가 실행된다. 그럼 각각의 `result`값이 따로 콘솔에 출력되는 것이다. <br/>\n",
    "\n",
    "여기서 `blocking`의 차이가 발생하는데, 3-1(콜백함수가 파라미터에 포함되지 않는) 경우 전체 함수가 실행된 후 콜백함수가 실행되기 때문에 전체 함수가 실행되기 전까지는 콜백함수에 `blocking`이 되고 `secondFunction`에는 `non-blocking`이다. 하지만 3-2(콜백함수가 파라미터에 포함되는) 경우 각각 함수가 실행된 후 콜백함수가 실행되기 때문에 `firstFunction`이 실행되는 도중 `secondFunction`에 `blocking`이 되고, 콜백함수에는 `non-blocking`이 되는 차이점이 있다."
   ]
  }
 ],
 "metadata": {
  "kernelspec": {
   "display_name": "JavaScript (Node.js)",
   "language": "javascript",
   "name": "javascript"
  },
  "language_info": {
   "file_extension": ".js",
   "mimetype": "application/javascript",
   "name": "javascript",
   "version": "20.10.0"
  }
 },
 "nbformat": 4,
 "nbformat_minor": 2
}
