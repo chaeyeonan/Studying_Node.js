{
 "cells": [
  {
   "cell_type": "markdown",
   "metadata": {},
   "source": [
    "# [Node.js] async 라이브러리 - Control Flow"
   ]
  },
  {
   "cell_type": "markdown",
   "metadata": {},
   "source": [
    "### [parallel 함수](https://caolan.github.io/async/v3/docs.html#parallel)\n",
    "\n",
    "```jsx\n",
    "parallel(tasks, callbackopt)\n",
    "```\n",
    "\n",
    "여러 비동기 함수(태스크)를 병렬로 실행하고, 모든 태스크가 완료되면 결과를 콜백으로 반환한다. 이 함수는 각 태스크를 서로 기다리지 않고 병렬로 실행하기 때문에, I/O 작업과 같이 비동기적인 작업을 병렬로 처리하는 데 적합하다.\n",
    "\n",
    "| Name | Type | Description |\n",
    "| --- | --- | --- |\n",
    "| tasks | Array, Iterable, AsyncIterable, Object | 실행할 비동기 함수들의 컬렉션입니다. 각 비동기 함수는 선택적인 결과 값을 반환할 수 있습니다. |\n",
    "| callback | function <optional> | 모든 함수들이 성공적으로 완료되었을 때 실행되는 콜백입니다. 이 콜백은 태스크 콜백들에 의해 전달된 모든 결과 인자들을 포함하는 결과 배열(또는 객체)을 받습니다. 오류가 발생하면 오류와 결과를 인자로 받습니다. |\n",
    "\n",
    "**반환값**\n",
    "\n",
    "- 콜백이 제공되지 않는 경우 프로미스를 반환\n",
    "\n",
    "**예제코드**"
   ]
  },
  {
   "cell_type": "code",
   "execution_count": 9,
   "metadata": {},
   "outputs": [
    {
     "name": "stdout",
     "output_type": "stream",
     "text": [
      "Task 2 완료\n",
      "Task 1 완료\n",
      "모든 태스크 완료: [ 'Result 1', 'Result 2' ]\n"
     ]
    }
   ],
   "source": [
    "const parallel = require('async/parallel');\n",
    "\n",
    "// 비동기 태스크 정의\n",
    "const task1 = callback => {\n",
    "    setTimeout(() => {\n",
    "        console.log('Task 1 완료');\n",
    "        callback(null, 'Result 1');\n",
    "    }, 2000);\n",
    "};\n",
    "\n",
    "const task2 = callback => {\n",
    "    setTimeout(() => {\n",
    "        console.log('Task 2 완료');\n",
    "        callback(null, 'Result 2');\n",
    "    }, 1000);\n",
    "};\n",
    "\n",
    "// parallel 함수를 사용하여 태스크 병렬 실행\n",
    "parallel([task1, task2], (err, results) => {\n",
    "    if (err) {\n",
    "        console.error('에러 발생:', err);\n",
    "    } else {\n",
    "        console.log('모든 태스크 완료:', results); // 예: ['Result 1', 'Result 2']\n",
    "    }\n",
    "});"
   ]
  },
  {
   "cell_type": "markdown",
   "metadata": {},
   "source": [
    "`parallel` 함수를 사용할 때, 각 태스크는 병렬로 실행되지만, 결과 배열의 순서는 **태스크가 정의된 순서**에 따라 결정된다. 즉, 태스크의 완료 순서와 관계없이, **정의된 순서대로 결과가 배열에 저장**된다.<br/> 예제 코드에서, `task1`과 `task2`는 병렬로 실행되며 `task2`가 먼저 완료될 가능성이 높다. 하지만 결과 배열의 첫 번째 요소는 항상 `task1`의 결과(`'Result 1'`)가 되고, 두 번째 요소는 `task2`의 결과(`'Result 2'`)가 된다."
   ]
  },
  {
   "cell_type": "markdown",
   "metadata": {},
   "source": [
    "##### <왜?> \n",
    "`async/parallel`함수에서 정의된 순서대로 결과가 배열에 저장되는 이유는 결과의 일관성과 예측 가능성을 보장하기 위함이다. <br/>비동기 작업은 실행 시간이 다를 수 있기 때문에, 작업이 완료된 순서대로 결과를 배열에 저장하면, 결과 배열의 순서가 실행할 때마다 달라질 수 있다. 이는 프로그램의 행동을 예측하기 어렵게 만들고, 결과를 해석하는 데 혼란을 줄 수 있다. <br/> 따라서, `async/parallel`은 각 태스크의 결과를 그 태스크가 정의된 순서대로 배열에 배치한다. 이렇게 함으로써, 코드를 작성하는 시점에서 결과의 순서를 예측할 수 있으며, 각 태스크의 결과를 쉽게 식별할 수 있다."
   ]
  }
 ],
 "metadata": {
  "kernelspec": {
   "display_name": "JavaScript (Node.js)",
   "language": "javascript",
   "name": "javascript"
  },
  "language_info": {
   "file_extension": ".js",
   "mimetype": "application/javascript",
   "name": "javascript",
   "version": "20.10.0"
  }
 },
 "nbformat": 4,
 "nbformat_minor": 2
}
