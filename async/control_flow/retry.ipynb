{
 "cells": [
  {
   "cell_type": "markdown",
   "metadata": {},
   "source": [
    "# [Node.js] async 라이브러리 - Control Flow"
   ]
  },
  {
   "cell_type": "markdown",
   "metadata": {},
   "source": [
    "### [retry 함수](https://caolan.github.io/async/v3/docs.html#retry)\n",
    "\n",
    "```jsx\n",
    "import retry from 'async/retry';\n",
    "\n",
    "retry(optsopt, task, callbackopt)\n",
    "```\n",
    "\n",
    "주어진 비동기 작업(`task`)이 성공할 때까지 설정된 횟수(`times`)만큼 시도하는 함수. 모든 시도가 실패하면, 마지막 시도의 오류와 결과(있는 경우)를 콜백에 전달.\n",
    "\n",
    "| Name | Type | Default | Description |\n",
    "| --- | --- | --- | --- |\n",
    "| opts | Object , number <optional> | {times: 5, interval: 0} 5 | Can be either an object with times and interval or a number. <br/> • `times` - 포기하기 전에 시도할 횟수입니다. 기본값은 5번입니다 <br/> • `interval` - 재시도 사이의 대기 시간(밀리초 단위)입니다. 기본값은 0입니다. 재시도 횟수에 따라 간격을 지정하는 함수로도 설정할 수 있습니다. <br/> • `errorFilter` - 잘못된 결과에 대해 호출되는 선택적 동기함수입니다. 이 함수가 true 를 반환하면 재시도가 계속되고, false 를 반환하면 현재 시도의 오류와 결과를 가지고 최종 콜백이 호출됩니다. 오류 객체(err)와 함께 호출됩니다.<br/>  • If opts is a number, the number specifies the number of times to retry, with the default interval of 0. |\n",
    "| task | https://caolan.github.io/async/v3/global.html |  | 재시도할 비동기 함수입니다. 콜백과 함께 호출됩니다. |\n",
    "| callback | function <optional> |  | 작업이 성공하거나 마지막 실패 시도 후에 호출되는 콜백 함수입니다. 마지막 시도에서의 오류(err)와 결과(results)를 인자로 받습니다. |\n",
    "\n",
    "**반환값**\n",
    "\n",
    "- 콜백이 제공되지 않은 경우, 함수는 프로미스(Promise)를 반환"
   ]
  }
 ],
 "metadata": {
  "kernelspec": {
   "display_name": "JavaScript (Node.js)",
   "language": "javascript",
   "name": "javascript"
  },
  "language_info": {
   "file_extension": ".js",
   "mimetype": "application/javascript",
   "name": "javascript",
   "version": "20.10.0"
  }
 },
 "nbformat": 4,
 "nbformat_minor": 2
}
