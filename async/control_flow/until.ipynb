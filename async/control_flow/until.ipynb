{
 "cells": [
  {
   "cell_type": "markdown",
   "metadata": {},
   "source": [
    "### [until 함수](https://caolan.github.io/async/v3/docs.html#until)\n",
    "\n",
    "```jsx\n",
    "import until from 'async/until';\n",
    "\n",
    "until(test, iteratee, callbackopt)\n",
    "```\n",
    "\n",
    "`async/until` 함수의 역할은 `test` 함수가 참을 반환할 때까지 `iteratee` 함수를 반복적으로 실행하는 것입니다. 만약 `iteratee` 실행 중에 오류가 발생하면, 즉시 `callback` 함수가 오류와 함께 호출됩니다. 이 함수는 `async/whilst`의 반대 개념으로 작동합니다.\n",
    "\n",
    "주어진 조건이 만족될 때까지 지속적으로 비동기 작업을 수행하며, 조건이 만족되면 최종 결과를 처리하거나 오류를 핸들링하는 콜백을 호출\n",
    "\n",
    "| Name | Type | Description |\n",
    "| --- | --- | --- |\n",
    "| test | [AsyncFunction](https://caolan.github.io/async/v3/global.html) | AsyncFunction 타입의 함수로, 각 iteratee 실행 전에 호출됩니다. 이 함수는 비동기적 진리 테스트를 수행하며, 참(true)을 반환하면 iteratee의 실행이 중단됩니다. |\n",
    "| iteratee | [AsyncFunction](https://caolan.github.io/async/v3/global.html) | AsyncFunction 타입의 함수로, test가 거짓(false)을 반환할 때마다 호출됩니다. 이 함수는 비동기 작업을 수행합니다 |\n",
    "| callback | function <optional> | test 함수가 참을 반환하여 반복 실행이 중단되었을 때 호출되는 선택적 콜백 함수입니다. 이 콜백은 오류(err)와 마지막 iteratee 콜백에 전달된 인자들([results])을 받습니다. |"
   ]
  },
  {
   "cell_type": "code",
   "execution_count": 1,
   "metadata": {},
   "outputs": [],
   "source": [
    "const async=require('async');"
   ]
  },
  {
   "cell_type": "code",
   "execution_count": 3,
   "metadata": {},
   "outputs": [
    {
     "name": "stdout",
     "output_type": "stream",
     "text": [
      "현재 카운트: 1\n"
     ]
    },
    {
     "name": "stdout",
     "output_type": "stream",
     "text": [
      "현재 카운트: 2\n",
      "현재 카운트: 3\n",
      "현재 카운트: 4\n",
      "현재 카운트: 5\n",
      "최종 카운트: 5\n"
     ]
    }
   ],
   "source": [
    "let count = 0;\n",
    "\n",
    "// 조건: count 값이 5보다 작을 때까지 계속 반복\n",
    "async.until(\n",
    "    function testCondition(callback) {\n",
    "        // 조건을 검사하는 함수\n",
    "        callback(null, count >= 5);\n",
    "    },\n",
    "    function increaseCount(callback) {\n",
    "        // 조건이 충족되지 않을 때 실행할 함수\n",
    "        count++;\n",
    "        console.log('현재 카운트:', count);\n",
    "\n",
    "        // 임의로 1초의 지연을 추가 (비동기 작업 시뮬레이션)\n",
    "        setTimeout(callback, 1000);\n",
    "    },\n",
    "    function onCompletion(err) {\n",
    "        if (err) {\n",
    "            console.error('에러 발생:', err);\n",
    "            return;\n",
    "        }\n",
    "        console.log('최종 카운트:', count);\n",
    "    }\n",
    ");"
   ]
  }
 ],
 "metadata": {
  "kernelspec": {
   "display_name": "JavaScript (Node.js)",
   "language": "javascript",
   "name": "javascript"
  },
  "language_info": {
   "file_extension": ".js",
   "mimetype": "application/javascript",
   "name": "javascript",
   "version": "20.10.0"
  }
 },
 "nbformat": 4,
 "nbformat_minor": 2
}
