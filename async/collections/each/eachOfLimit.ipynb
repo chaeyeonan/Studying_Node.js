{
 "cells": [
  {
   "cell_type": "markdown",
   "metadata": {},
   "source": [
    "#### [eachOfLimit 함수](https://caolan.github.io/async/v3/docs.html#eachOfLimit)\n",
    "\n",
    "```jsx\n",
    "import each from 'async/eachOfLimit';\n",
    "\n",
    "eachOfLimit(coll, limit, iteratee, callback(opt))\n",
    "```\n",
    "\n",
    "주어진 collection을 순회하며 각 항목에 대해 비동기 함수를 실행한다. 하지만 한 번에 실행되는 비동기작업의 최대 개수를 제한할 수 있다. (만약 3이라면 동시에 실행될 수 있는 항목이 3개라는 뜻)\n",
    "\n",
    "| Name | Type | Description |\n",
    "| --- | --- | --- |\n",
    "| coll | Array, Iterable, AsyncIterable, Object | 순회할 컬렉션. 배열, 객체 |\n",
    "| limit | number | 한 번에 실행할 수 있는 비동기 작업의 최대 개수입니다. |\n",
    "| iteratee | [AsyncFunction](https://caolan.github.io/async/v3/global.html) | 각 항목에 적용할 비동기 함수입니다. 이 함수는 각 항목의 값, 키(또는 배열의 경우 인덱스), 그리고 콜백 함수를 인자로 받습니다. |\n",
    "| callback | function <optional> | 모든 iteratee 함수의 실행이 완료되었거나 오류가 발생했을 때 호출되는 콜백 함수입니다. 오류가 있을 경우 그 오류를 인자로 받습니다. |\n",
    "\n",
    "**반환값**\n",
    "\n",
    "- 콜백이 제공되지 않는 경우 프로미스를 반환"
   ]
  },
  {
   "cell_type": "code",
   "execution_count": 1,
   "metadata": {},
   "outputs": [
    {
     "name": "stdout",
     "output_type": "stream",
     "text": [
      "처리 중인 항목: 1 (인덱스: 0)\n",
      "처리 중인 항목: 2 (인덱스: 1)\n",
      "처리 중인 항목: 3 (인덱스: 2)\n"
     ]
    },
    {
     "name": "stdout",
     "output_type": "stream",
     "text": [
      "완료된 항목: 1\n",
      "처리 중인 항목: 4 (인덱스: 3)\n",
      "완료된 항목: 2\n",
      "처리 중인 항목: 5 (인덱스: 4)\n",
      "완료된 항목: 3\n",
      "완료된 항목: 4\n",
      "완료된 항목: 5\n",
      "모든 항목 처리 완료\n"
     ]
    }
   ],
   "source": [
    "const eachOfLimit = require('async/eachOfLimit');\n",
    "\n",
    "// 예제 배열\n",
    "const myArray = [1, 2, 3, 4, 5];\n",
    "\n",
    "// eachOfLimit 함수를 사용하여 배열 순회\n",
    "eachOfLimit(myArray, 3, (item, index, callback) => {\n",
    "    console.log(`처리 중인 항목: ${item} (인덱스: ${index})`);\n",
    "\n",
    "    // 비동기 작업을 수행하는 부분 (예시로 setTimeout 사용)\n",
    "    setTimeout(() => {\n",
    "        console.log(`완료된 항목: ${item}`);\n",
    "        callback(); // 비동기 작업이 완료되었음을 콜백으로 알림\n",
    "    }, 1000 * item); // 각 항목마다 1초에서 5초까지의 지연 시간\n",
    "}, err => {\n",
    "    if (err) {\n",
    "        // 오류 처리\n",
    "        console.error('에러 발생:', err);\n",
    "    } else {\n",
    "        // 모든 작업이 성공적으로 완료된 경우\n",
    "        console.log('모든 항목 처리 완료');\n",
    "    }\n",
    "});"
   ]
  },
  {
   "cell_type": "markdown",
   "metadata": {},
   "source": [
    "- **callback 함수가 파라미터로 있는 경우**\n",
    "    \n",
    "    → 개발자는 각 항목이 처리 된 후에 `callback()`을 호출해야한다. `callback()`을 호출하지않으면, `eachOfLimit`함수는 아직 해당 항목이 처리 중이라고 판단하고 다음 항목으로 넘어가지 않는다\n",
    "    \n",
    "    <br/>\n",
    "\n",
    "    \n",
    "- **callback 함수가 파라미터로 없는 경우** (따로 존재하는 경우 or Async 함수 사용시)\n",
    "    \n",
    "    → `async`함수를 사용하면 함수는 자동으로 `promise`를 반환한다. 이 경우 `eachOfLimit`은 반환된 `promise`가 해결되거나 거부될 때까지 기다린다. 즉, 함수가 완료되거나 오류를 반환할때까지 기다린다. 따라서 `async`를 사용할 때는 `callback`을 별도로 호출할 이유가없다."
   ]
  }
 ],
 "metadata": {
  "kernelspec": {
   "display_name": "JavaScript (Node.js)",
   "language": "javascript",
   "name": "javascript"
  },
  "language_info": {
   "file_extension": ".js",
   "mimetype": "application/javascript",
   "name": "javascript",
   "version": "20.10.0"
  }
 },
 "nbformat": 4,
 "nbformat_minor": 2
}
