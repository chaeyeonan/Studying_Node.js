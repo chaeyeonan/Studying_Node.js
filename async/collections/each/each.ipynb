{
 "cells": [
  {
   "cell_type": "markdown",
   "metadata": {},
   "source": [
    "#### [each 함수](https://caolan.github.io/async/v3/docs.html#each)\n",
    "\n",
    "```jsx\n",
    "import each from 'async/each';\n",
    "\n",
    "함수(coll, iteratee, callback(opt))\n",
    "```\n",
    "\n",
    "컬렉션(`coll`) 안의 각 항목에 비동기 함수(`iteratee`)를 병렬로 적용하는 데 사용하는 함수\n",
    "\n",
    "| Name | Type | Description |\n",
    "| --- | --- | --- |\n",
    "| coll | Array, Iterable, AsyncIterable, Object | A collection to iterate over. |\n",
    "| iteratee | [AsyncFunction](https://caolan.github.io/async/v3/global.html) | 컬렉션의 각 항목에 적용될 비동기 함수입니다. 이 함수는 각 항목과 함께 콜백을 인자로 받아, 처리가 완료되었을 때 호출 |\n",
    "| callback | function <optional> | 선택적으로 사용되는 콜백 함수입니다. 모든 iteratee 함수의 처리가 완료되었거나, 오류가 발생했을 때 호출됩니다. 오류가 있을 경우, 콜백은 오류를 인자로 받아 호출됩니다. |\n",
    "\n",
    "**반환값**\n",
    "\n",
    "- 프로미스(Promise), 콜백이 제공되지 않은 경우 사용"
   ]
  }
 ],
 "metadata": {
  "language_info": {
   "name": "python"
  }
 },
 "nbformat": 4,
 "nbformat_minor": 2
}
