{
 "cells": [
  {
   "cell_type": "markdown",
   "metadata": {},
   "source": [
    "#### [each 함수](https://caolan.github.io/async/v3/docs.html#each)\n",
    "\n",
    "```jsx\n",
    "import each from 'async/each';\n",
    "\n",
    "함수(coll, iteratee, callback(opt))\n",
    "```\n",
    "\n",
    "컬렉션(`coll`) 안의 각 항목에 비동기 함수(`iteratee`)를 병렬로 적용하는 데 사용하는 함수\n",
    "\n",
    "| Name | Type | Description |\n",
    "| --- | --- | --- |\n",
    "| coll | Array, Iterable, AsyncIterable, Object | A collection to iterate over. |\n",
    "| iteratee | [AsyncFunction](https://caolan.github.io/async/v3/global.html) | 컬렉션의 각 항목에 적용될 비동기 함수입니다. 이 함수는 각 항목과 함께 콜백을 인자로 받아, 처리가 완료되었을 때 호출 |\n",
    "| callback | function <optional> | 선택적으로 사용되는 콜백 함수입니다. 모든 iteratee 함수의 처리가 완료되었거나, 오류가 발생했을 때 호출됩니다. 오류가 있을 경우, 콜백은 오류를 인자로 받아 호출됩니다. |\n",
    "\n",
    "**반환값**\n",
    "\n",
    "- 프로미스(Promise), 콜백이 제공되지 않은 경우 사용"
   ]
  },
  {
   "cell_type": "code",
   "execution_count": 1,
   "metadata": {},
   "outputs": [],
   "source": [
    "const async=require('async');"
   ]
  },
  {
   "cell_type": "markdown",
   "metadata": {},
   "source": [
    "##### 콜백함수가 파라미터로 있는 경우"
   ]
  },
  {
   "cell_type": "code",
   "execution_count": 2,
   "metadata": {},
   "outputs": [
    {
     "name": "stdout",
     "output_type": "stream",
     "text": [
      "Processing item: 1\n",
      "Processing item: 2\n",
      "Processing item: 3\n",
      "Processing item: 4\n",
      "Processing item: 5\n"
     ]
    },
    {
     "name": "stdout",
     "output_type": "stream",
     "text": [
      "Processed item: 1\n",
      "Processed item: 2\n",
      "Processed item: 3\n",
      "Processed item: 4\n",
      "Processed item: 5\n",
      "All items have been processed successfully.\n"
     ]
    }
   ],
   "source": [
    "// 처리할 아이템들의 배열\n",
    "const items = [1, 2, 3, 4, 5];\n",
    "\n",
    "// 각 아이템에 대해 실행할 비동기 함수\n",
    "function asyncFunction(item, callback) {\n",
    "    console.log('Processing item:', item);\n",
    "    // 비동기 작업을 시뮬레이션하기 위해 setTimeout 사용\n",
    "    setTimeout(() => {\n",
    "        console.log('Processed item:', item);\n",
    "        callback(); // 비동기 작업 완료 시 콜백 호출\n",
    "    }, 1000 * item);\n",
    "}\n",
    "\n",
    "// async.each 사용\n",
    "async.each(items, asyncFunction, (err) => {\n",
    "    if (err) {\n",
    "        console.error('An error occurred:', err);\n",
    "    } else {\n",
    "        console.log('All items have been processed successfully.');\n",
    "    }\n",
    "});\n"
   ]
  },
  {
   "cell_type": "markdown",
   "metadata": {},
   "source": [
    "##### 콜백함수가 별도로 선언된 경우"
   ]
  },
  {
   "cell_type": "code",
   "execution_count": 5,
   "metadata": {},
   "outputs": [
    {
     "name": "stdout",
     "output_type": "stream",
     "text": [
      "Processing item: 1\n",
      "Processing item: 2\n",
      "Processing item: 3\n",
      "Processing item: 4\n",
      "Processing item: 5\n"
     ]
    },
    {
     "name": "stdout",
     "output_type": "stream",
     "text": [
      "Processed item: 1\n",
      "Processed item: 2\n",
      "Processed item: 3\n",
      "Processed item: 4\n",
      "Processed item: 5\n",
      "All items have been processed successfully.\n"
     ]
    }
   ],
   "source": [
    "// 처리할 아이템들의 배열\n",
    "const items2 = [1, 2, 3, 4, 5];\n",
    "\n",
    "// 각 아이템에 대해 실행할 비동기 함수\n",
    "function asyncFunction(item, callback) {\n",
    "    console.log('Processing item:', item);\n",
    "    // 비동기 작업을 시뮬레이션하기 위해 setTimeout 사용\n",
    "    setTimeout(() => {\n",
    "        console.log('Processed item:', item);\n",
    "        callback(); // 비동기 작업 완료 시 콜백 호출\n",
    "    }, 1000 * item);\n",
    "}\n",
    "\n",
    "// 모든 아이템이 처리된 후 호출될 콜백 함수\n",
    "function processCallback(err) {\n",
    "    if (err) {\n",
    "        console.error('An error occurred:', err);\n",
    "    } else {\n",
    "        console.log('All items have been processed successfully.');\n",
    "    }\n",
    "}\n",
    "\n",
    "// async.each 사용\n",
    "async.each(items2, asyncFunction, processCallback);\n"
   ]
  },
  {
   "cell_type": "markdown",
   "metadata": {},
   "source": [
    "##### 콜백을 사용하지 않는 경우"
   ]
  },
  {
   "cell_type": "code",
   "execution_count": 6,
   "metadata": {},
   "outputs": [
    {
     "name": "stdout",
     "output_type": "stream",
     "text": [
      "Processing item: 1\n",
      "Processing item: 2\n",
      "Processing item: 3\n",
      "Processing item: 4\n",
      "Processing item: 5\n"
     ]
    },
    {
     "data": {
      "text/plain": [
       "Promise { <pending> }"
      ]
     },
     "execution_count": 6,
     "metadata": {},
     "output_type": "execute_result"
    },
    {
     "name": "stdout",
     "output_type": "stream",
     "text": [
      "Processed item: 1\n",
      "Processed item: 2\n",
      "Processed item: 3\n",
      "Processed item: 4\n",
      "Processed item: 5\n"
     ]
    }
   ],
   "source": [
    "async.each(items, asyncFunction);"
   ]
  },
  {
   "cell_type": "markdown",
   "metadata": {},
   "source": [
    "최종 콜백을 사용하지 않을 경우, 비동기 작업의 완료 상태를 파악하는 것이 불가하다. 또한 오류처리가 불가능하므로 프로그램의 안정성과 가독성이 떨어진다"
   ]
  }
 ],
 "metadata": {
  "kernelspec": {
   "display_name": "JavaScript (Node.js)",
   "language": "javascript",
   "name": "javascript"
  },
  "language_info": {
   "file_extension": ".js",
   "mimetype": "application/javascript",
   "name": "javascript",
   "version": "20.10.0"
  }
 },
 "nbformat": 4,
 "nbformat_minor": 2
}
