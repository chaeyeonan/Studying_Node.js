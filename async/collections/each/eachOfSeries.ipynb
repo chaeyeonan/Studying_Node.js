{
 "cells": [
  {
   "cell_type": "markdown",
   "metadata": {},
   "source": [
    "#### [eachOfSeries 함수](https://caolan.github.io/async/v3/docs.html#eachOfSeries)\n",
    "\n",
    "```jsx\n",
    "import eachOfSeries from 'async/eachOfSeries';\n",
    "\n",
    "eachOfSeries(coll, iteratee, callbackopt)\n",
    "```\n",
    "\n",
    "주어진 컬렉션을 순회하면서 각 항목에 대해 비동기 함수를 **순차적으로** 적용하는 데 사용된다. 이 함수는 **`eachOf`**와 유사하지만, 한 번에 하나의 비동기 작업만 실행된다는 점에서 차이가 있다.\n",
    "\n",
    "| Name | Type | Description |\n",
    "| --- | --- | --- |\n",
    "| coll | Array, Iterable, AsyncIterable, Object | 순회할 컬렉션 |\n",
    "| iteratee | [AsyncFunction](https://caolan.github.io/async/v3/global.html) | 각 항목에 적용할 비동기 함수입니다. 이 함수는 각 항목의 값, 키(또는 배열의 경우 인덱스), 그리고 콜백 함수를 인자로 받습니다. |\n",
    "| callback | function <optional> | 모든 iteratee 함수의 실행이 완료되었거나 오류가 발생했을 때 호출되는 콜백 함수입니다. 오류가 있을 경우 그 오류를 인자로 받습니다. |\n",
    "\n",
    "**반환값**\n",
    "\n",
    "- 콜백이 제공되지 않는 경우 프로미스를 반환"
   ]
  },
  {
   "cell_type": "code",
   "execution_count": null,
   "metadata": {},
   "outputs": [],
   "source": [
    "const eachOfSeries = require('async/eachOfSeries');\n",
    "\n",
    "// 예제 배열\n",
    "const myArray = [1, 2, 3, 4, 5];\n",
    "\n",
    "// eachOfSeries 함수를 사용하여 배열 순회\n",
    "eachOfSeries(myArray, (item, index, callback) => {\n",
    "    console.log(`처리 중인 항목: ${item} (인덱스: ${index})`);\n",
    "\n",
    "    // 비동기 작업을 수행하는 부분 (예시로 setTimeout 사용)\n",
    "    setTimeout(() => {\n",
    "        console.log(`완료된 항목: ${item}`);\n",
    "        callback(); // 비동기 작업이 완료되었음을 콜백으로 알림\n",
    "    }, 1000 * item); // 각 항목마다 1초에서 5초까지의 지연 시간\n",
    "}, err => {\n",
    "    if (err) {\n",
    "        // 오류 처리\n",
    "        console.error('에러 발생:', err);\n",
    "    } else {\n",
    "        // 모든 작업이 성공적으로 완료된 경우\n",
    "        console.log('모든 항목 처리 완료');\n",
    "    }\n",
    "});"
   ]
  },
  {
   "cell_type": "markdown",
   "metadata": {},
   "source": [
    "##### **eachOf vs eachOfSeries 실행 순서 차이**\n",
    "\n",
    "- **eachOf**\n",
    "    - `eachOf`는 컬렉션의 각 항목에 대해 주어진 비동기 함수를 **동시에** 실행.\n",
    "    - 모든 항목의 비동기 작업이 병렬로 진행되며, 각 항목은 다른 항목의 상태와 상관없이 독립적으로 처리.\n",
    "    - 병렬 처리로 인해 전체 작업의 완료 시간을 단축시킬 수 있으나, 항목들 사이에 상호 의존성이 있을 경우 문제가 발생할 수 있다. <br/>\n",
    "- **eachOfSeries**\n",
    "    - `eachOfSeries`는 컬렉션(배열, 객체 등)의 각 항목에 대해 주어진 비동기 함수를 **순차적으로** 실행.\n",
    "    - 이는 한 번에 하나의 항목만 처리되며, 현재 항목의 비동기 작업이 완료되고 나서야 다음 항목으로 넘어간다.\n",
    "    - 항목들 사이에 종속성이 있거나 동시 실행이 부적합한 경우에 유용하다.\n",
    "    \n",
    "즉, `eachOfSeries`는 순차적 처리가 필요할 때, `eachOf`는 병렬 처리가 가능하고 효율적일 때 사용하는 것이 좋다."
   ]
  }
 ],
 "metadata": {
  "kernelspec": {
   "display_name": "JavaScript (Node.js)",
   "language": "javascript",
   "name": "javascript"
  },
  "language_info": {
   "name": "javascript"
  }
 },
 "nbformat": 4,
 "nbformat_minor": 2
}
