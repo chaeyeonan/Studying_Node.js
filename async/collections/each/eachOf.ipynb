{
 "cells": [
  {
   "cell_type": "markdown",
   "metadata": {},
   "source": [
    "#### [eachOf 함수](https://caolan.github.io/async/v3/docs.html#eachOf)\n",
    "\n",
    "```jsx\n",
    "import each from 'async/eachOf';\n",
    "\n",
    "eachOf(coll, iteratee, callback(opt))\n",
    "```\n",
    "\n",
    "| Name | Type | Description |\n",
    "| --- | --- | --- |\n",
    "| coll | Array, Iterable, AsyncIterable, Object | 반복할 컬렉션(배열, 반복 가능한 객체, AsyncIterable, 또는 객체 등). |\n",
    "| iteratee | [AsyncFunction](https://caolan.github.io/async/v3/global.html) | 각 항목에 적용할 비동기 함수. 항목의 값과 키(또는 인덱스), 그리고 콜백을 인자로 받습니다. |\n",
    "| callback | function <optional> | 모든 iteratee 함수가 완료되었을 때, 또는 오류가 발생했을 때 호출되는 콜백 함수입니다. 오류(err)를 인자로 받습니다. |\n",
    "\n",
    "**반환값**\n",
    "\n",
    "- 콜백을 생략하면, 프로미스(Promise) 반환"
   ]
  },
  {
   "cell_type": "code",
   "execution_count": 1,
   "metadata": {},
   "outputs": [
    {
     "name": "stdout",
     "output_type": "stream",
     "text": [
      "Processing number at index 0: 1\n",
      "Processing number at index 1: 2\n",
      "Processing number at index 2: 3\n",
      "Processing number at index 3: 4\n",
      "Processing number at index 4: 5\n",
      "All numbers processed successfully.\n"
     ]
    }
   ],
   "source": [
    "const async = require('async');\n",
    "\n",
    "let numbers = [1, 2, 3, 4, 5];\n",
    "\n",
    "function doubleNumber(number, index, callback) {\n",
    "    setTimeout(() => {\n",
    "        console.log(`Processing number at index ${index}: ${number}`);\n",
    "        callback(null, number * 2);\n",
    "    }, 1000);\n",
    "}\n",
    "\n",
    "async.eachOf(numbers, doubleNumber, (err) => {\n",
    "    if (err) {\n",
    "        console.error('An error occurred:', err);\n",
    "    } else {\n",
    "        console.log('All numbers processed successfully.');\n",
    "    }\n",
    "});"
   ]
  },
  {
   "cell_type": "markdown",
   "metadata": {},
   "source": [
    "#### async/eachOf vs async/each 다른점?\n",
    "\n",
    "`async/each`와 `async/eachOf`는 비슷한 기능을 수행하는 `async` 모듈의 함수들이지만, 주요 차이점은 인자들을 `iteratee` 함수에 전달하는 방식에 있다\n",
    "\n",
    "1. **async/each**\n",
    "    \n",
    "    이 함수는 컬렉션의 각 항목을 `iteratee` 함수에 전달한다. `iteratee` 함수는 각 항목과 콜백 함수만을 인자로 받는다. 즉, `iteratee` 함수의 인자는 `(item, callback)` 형태이다.\n",
    "    \n",
    "    ```jsx\n",
    "    async.each(array, (item, callback) => {\n",
    "        // 여기에서 item은 배열의 각 요소\n",
    "        // ...\n",
    "    }, err => {\n",
    "        // 모든 항목이 처리된 후의 콜백\n",
    "    });\n",
    "    \n",
    "    ```\n",
    "    \n",
    "2. **async/eachOf**\n",
    "    \n",
    "    이 함수는 컬렉션의 각 항목과 해당 항목의 키(또는 인덱스)를 `iteratee` 함수에 전달한다. `iteratee` 함수는 **항목, 키(또는 인덱스), 콜백 함수를 인자**로 받는다. 즉, `iteratee` 함수의 인자는 `(item, key, callback)` 형태이다.\n",
    "    \n",
    "    예시:\n",
    "    \n",
    "    ```jsx\n",
    "    async.eachOf(object, (item, **key**, callback) => {\n",
    "        // 여기에서 item은 객체의 각 값, key는 객체의 각 키\n",
    "        // ...\n",
    "    }, err => {\n",
    "        // 모든 항목이 처리된 후의 콜백\n",
    "    });\n",
    "    \n",
    "    ```\n",
    "    \n",
    "\n",
    "간단히 말해, `async/each`는 단순히 컬렉션의 각 항목을 처리하는 데 사용되는 반면, `async/eachOf`는 항목과 그 항목의 키(또는 인덱스) 모두를 처리하는 데 사용된다. `eachOf`는 객체와 같이 키-값 쌍이 중요한 경우에 특히 유용하다."
   ]
  }
 ],
 "metadata": {
  "kernelspec": {
   "display_name": "JavaScript (Node.js)",
   "language": "javascript",
   "name": "javascript"
  },
  "language_info": {
   "file_extension": ".js",
   "mimetype": "application/javascript",
   "name": "javascript",
   "version": "20.10.0"
  }
 },
 "nbformat": 4,
 "nbformat_minor": 2
}
