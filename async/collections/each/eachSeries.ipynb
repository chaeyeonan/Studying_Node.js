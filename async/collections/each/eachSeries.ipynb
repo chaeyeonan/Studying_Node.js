{
 "cells": [
  {
   "cell_type": "markdown",
   "metadata": {},
   "source": [
    "### [eachSeries 함수](https://caolan.github.io/async/v3/docs.html#eachSeries)\n",
    "\n",
    "```jsx\n",
    "import some from 'async/eachSeries';\n",
    "\n",
    "eachSeries(coll, iteratee, callbackopt)\n",
    "```\n",
    "\n",
    "주어진 컬렉션을 순회하면서 각 항목에 대해 비동기 함수를 순차적으로 적용하는 데 사용된다. **`each`** 함수와 유사하지만, **`eachSeries`**는 한 번에 하나의 비동기 작업만 실행되므로, 항목이 순서대로 처리된다는 점이 다르다.\n",
    "\n",
    "| Name | Type | Description |\n",
    "| --- | --- | --- |\n",
    "| coll | Array, Iterable, AsyncIterable, Object | 순회할 컬렉션 |\n",
    "| iteratee | [AsyncFunction](https://caolan.github.io/async/v3/global.html) | 각 항목에 적용할 비동기 함수입니다. eachSeries는 배열 인덱스를 iteratee에 전달하지 않습니다. 인덱스가 필요한 경우 eachOfSeries를 사용해야 합니다. 함수는 각 항목과 콜백 함수를 인자로 받습니다. |\n",
    "| callback | function <optional> | 모든 iteratee 함수의 실행이 완료되었거나 오류가 발생했을 때 호출되는 콜백 함수입니다. 오류가 있을 경우 그 오류를 인자로 받습니다. |\n",
    "\n",
    "**반환값**\n",
    "\n",
    "- 콜백이 제공되지 않는 경우 프로미스를 반환"
   ]
  },
  {
   "cell_type": "code",
   "execution_count": null,
   "metadata": {},
   "outputs": [],
   "source": [
    "const eachSeries = require('async/eachSeries');\n",
    "\n",
    "// 예제 배열\n",
    "const myArray = [1, 2, 3, 4, 5];\n",
    "\n",
    "// eachSeries 함수를 사용하여 배열 순회\n",
    "eachSeries(myArray, (item, callback) => {\n",
    "    console.log(`처리 중인 항목: ${item}`);\n",
    "\n",
    "    // 비동기 작업을 수행하는 부분 (예시로 setTimeout 사용)\n",
    "    setTimeout(() => {\n",
    "        console.log(`완료된 항목: ${item}`);\n",
    "        callback(); // 비동기 작업이 완료되었음을 콜백으로 알림\n",
    "    }, 1000 * item); // 각 항목마다 1초에서 5초까지의 지연 시간\n",
    "}, err => {\n",
    "    if (err) {\n",
    "        // 오류 처리\n",
    "        console.error('에러 발생:', err);\n",
    "    } else {\n",
    "        // 모든 작업이 성공적으로 완료된 경우\n",
    "        console.log('모든 항목 처리 완료');\n",
    "    }\n",
    "});"
   ]
  },
  {
   "cell_type": "markdown",
   "metadata": {},
   "source": [
    "`eachSeries`는 배열의 `index`를 넘겨받지 않는다. (`eachOfSeries`는 `index`를 넘겨받음)"
   ]
  }
 ],
 "metadata": {
  "kernelspec": {
   "display_name": "JavaScript (Node.js)",
   "language": "javascript",
   "name": "javascript"
  },
  "language_info": {
   "name": "javascript"
  }
 },
 "nbformat": 4,
 "nbformat_minor": 2
}
