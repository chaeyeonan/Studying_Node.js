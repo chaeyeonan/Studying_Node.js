{
 "cells": [
  {
   "cell_type": "markdown",
   "metadata": {},
   "source": [
    "#### [reduce 함수](https://caolan.github.io/async/v3/docs.html#reduce)\n",
    "\n",
    "```jsx\n",
    "reduce(coll, memo, iteratee, callbackopt)\n",
    "```\n",
    "\n",
    "비동기 `iteratee` 함수를 사용하여 컬렉션(`coll`)을 단일 값으로 축소한다. `memo`는 축소의 초기 상태로, 이 함수는 **순차적으로만 작동**한다.\n",
    "\n",
    "| Name | Type | Description |\n",
    "| --- | --- | --- |\n",
    "| coll | Array, Iterable, AsyncIterable, Object | 순회할 컬렉션 |\n",
    "| memo | * | 축소의 초기 상태 |\n",
    "| iteratee | [AsyncFunction](https://caolan.github.io/async/v3/global.html) | 배열의 각 항목에 적용되어 축소의 다음 단계를 생성하는 함수입니다. iteratee는 축소의 다음 상태를 완성해야 합니다. iteratee가 오류와 함께 완료되면, 축소는 중단되고 메인 콜백은 즉시 오류와 함께 호출됩니다. (memo, item, callback)과 함께 호출됩니다. |\n",
    "| callback | function <optional> | 모든 iteratee 함수가 완료된 후 호출되는 콜백입니다. 결과는 축소된 값입니다. (err, result)과 함께 호출됩니다. |\n",
    "\n",
    "**반환값**\n",
    "\n",
    "- 콜백이 제공되지 않는 경우 프로미스를 반환"
   ]
  },
  {
   "cell_type": "code",
   "execution_count": 1,
   "metadata": {},
   "outputs": [],
   "source": [
    "const reduce = require('async/reduce');"
   ]
  },
  {
   "cell_type": "markdown",
   "metadata": {},
   "source": [
    "##### 예제코드 (1)"
   ]
  },
  {
   "cell_type": "code",
   "execution_count": null,
   "metadata": {},
   "outputs": [],
   "source": [
    "const myArray = [1, 2, 3];\n",
    "const initialState = 0;\n",
    "\n",
    "reduce(myArray, initialState, (memo, item, callback) => {\n",
    "    // 비동기 작업 수행\n",
    "    setTimeout(() => {\n",
    "        // 축소의 다음 단계 계산\n",
    "        callback(null, memo + item);\n",
    "\t\n",
    "    }, 1000);\n",
    "}, (err, result) => {\n",
    "    if (err) {\n",
    "        console.error('에러 발생:', err);\n",
    "    } else {\n",
    "        console.log('축소된 값:', result); // 예: 6\n",
    "    }\n",
    "});"
   ]
  },
  {
   "cell_type": "markdown",
   "metadata": {},
   "source": [
    "##### 예제코드 (2)"
   ]
  },
  {
   "cell_type": "code",
   "execution_count": null,
   "metadata": {},
   "outputs": [],
   "source": [
    "const axios = require('axios');\n",
    "\n",
    "// API 엔드포인트 목록\n",
    "const apiEndpoints = [\n",
    "    'https://api.example.com/data1',\n",
    "    'https://api.example.com/data2',\n",
    "    'https://api.example.com/data3'\n",
    "];\n",
    "\n",
    "// 초기 memo 값 (빈 객체)\n",
    "const initialState = {};\n",
    "\n",
    "asyncReduce(apiEndpoints, initialState, (memo, url, callback) => {\n",
    "    // 각 API 엔드포인트에서 데이터 가져오기\n",
    "    axios.get(url).then(response => {\n",
    "        // 응답을 memo 객체에 추가\n",
    "        memo[url] = response.data;\n",
    "        callback(null, memo);\n",
    "    }).catch(error => {\n",
    "        callback(error);\n",
    "    });\n",
    "}, (err, finalResult) => {\n",
    "    if (err) {\n",
    "        console.error('에러 발생:', err);\n",
    "    } else {\n",
    "        console.log('최종 결과:', finalResult);\n",
    "    }\n",
    "});"
   ]
  },
  {
   "cell_type": "markdown",
   "metadata": {},
   "source": [
    "- **reduce 함수를 언제사용하는가?**\n",
    "    - 주로 여러 데이터 조각을 단일 결과로 결합할 때\n",
    "    - 순차적인 데이터 변환 또는 축적이 필요할 때\n",
    "    - 이전 단계의 결과가 다음 단계에 영향을 미치는 경우\n",
    "    \n",
    "    예를 들어, \n",
    "    \n",
    "    1. **연속적인 API 호출**\n",
    "        \n",
    "        서로 다른 API 엔드포인트에서 데이터를 순차적으로 가져오고, 이전 호출의 결과를 기반으로 다음 호출을 결정해야 하는 경우.\n",
    "        \n",
    "    2. **데이터 변환 및 축적**\n",
    "        \n",
    "        각 단계에서 데이터를 변환하고, 이러한 변환을 축적하여 최종 결과(예: 총합, 평균, 복합 객체 등)를 생성하는 경우.\n",
    "        \n",
    "    3. **파일 처리**\n",
    "        \n",
    "        여러 파일을 순차적으로 읽고, 각 파일의 내용을 기반으로 최종 데이터 세트를 구축하는 경우.\n",
    "        \n",
    "    4. **순차적인 작업 수행**\n",
    "        \n",
    "        작업의 순서가 중요하며, 각 단계의 결과가 다음 단계의 입력으로 사용되는 경우.\n",
    "        \n",
    "    5. **리소스 제한 상황**\n",
    "        \n",
    "        리소스(예: 데이터베이스 연결, 파일 핸들 등)가 제한적이어서 동시에 여러 작업을 수행하기 어려운 경우 순차적 처리가 필요할 때.\n",
    "        \n",
    "\n",
    "→ 각 단계가 독립적이고 병렬처리가 가능하다면 `async/parallel` 이나 `async/map`이 더 적합할 수 있다."
   ]
  }
 ],
 "metadata": {
  "kernelspec": {
   "display_name": "JavaScript (Node.js)",
   "language": "javascript",
   "name": "javascript"
  },
  "language_info": {
   "file_extension": ".js",
   "mimetype": "application/javascript",
   "name": "javascript",
   "version": "20.10.0"
  }
 },
 "nbformat": 4,
 "nbformat_minor": 2
}
