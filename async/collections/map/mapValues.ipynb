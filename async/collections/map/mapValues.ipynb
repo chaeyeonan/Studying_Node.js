{
 "cells": [
  {
   "cell_type": "markdown",
   "metadata": {},
   "source": [
    "#### [mapValues 함수](https://caolan.github.io/async/v3/docs.html#mapValues)\n",
    "\n",
    "```jsx\n",
    "mapValues(obj, iteratee, callbackopt)\n",
    "```\n",
    "\n",
    "**객체**의 각 값에 대해 비동기 함수(**`iteratee`**)를 적용하여 새로운 객체를 생성한다. 이 함수는 **`map`** 함수의 변형으로, 객체에 특화되어있다.\n",
    "\n",
    "| Name | Type | Description |\n",
    "| --- | --- | --- |\n",
    "| obj | Object | 순회할 객체 |\n",
    "| iteratee | [AsyncFunction](https://caolan.github.io/async/v3/global.html) | 각 값과 키에 적용할 비동기 함수입니다. 이 함수는 객체의 각 값, 키, 그리고 콜백 함수를 인자로 받으며, 변환된 값을 결과로 완료해야 합니다. |\n",
    "| callback | function <optional> | 모든 iteratee 함수의 실행이 완료되었거나 오류가 발생했을 때 호출되는 콜백 함수입니다. 결과는 객체의 각 키와 변환된 값으로 구성된 새 객체입니다. 오류가 있을 경우 그 오류와 결과를 인자로 받습니다 |\n",
    "\n",
    "**반환값**\n",
    "\n",
    "- 콜백이 제공되지 않는 경우 프로미스를 반환"
   ]
  },
  {
   "cell_type": "code",
   "execution_count": 1,
   "metadata": {},
   "outputs": [
    {
     "name": "stdout",
     "output_type": "stream",
     "text": [
      "변환된 객체: { a: 1, b: 4, c: 9 }\n"
     ]
    }
   ],
   "source": [
    "const mapValues = require('async/mapValues');\n",
    "\n",
    "// 예를 들어, 객체의 각 값에 대해 비동기 작업을 수행하는 경우\n",
    "const myObject = { a: 1, b: 2, c: 3 };\n",
    "\n",
    "mapValues(myObject, (value, key, callback) => {\n",
    "    // 비동기 작업을 수행하여 값을 변환\n",
    "    setTimeout(() => {\n",
    "        callback(null, value * value); // 각 값에 2를 곱하여 콜백 호출\n",
    "    }, 1000);\n",
    "}, (err, result) => {\n",
    "    if (err) {\n",
    "        // 오류 처리\n",
    "        console.error('에러 발생:', err);\n",
    "    } else {\n",
    "        // 모든 값이 성공적으로 변환된 경우\n",
    "        console.log('변환된 객체:', result);\n",
    "    }\n",
    "});"
   ]
  },
  {
   "cell_type": "markdown",
   "metadata": {},
   "source": [
    "#### map VS mapValues\n",
    "\n",
    "- `map` 함수\n",
    "    - 일반적으로 `map` 함수는 배열이나 유사 배열 객체에 사용된다.\n",
    "    - 객체에 `map` 함수를 사용할 때, 객체의 키-값 쌍을 배열로 변환한 후 각 요소에 대해 작업을 수행한다. 결과는 **배열 형태로 반환된**다.\n",
    "    - 객체의 경우, `map`은 객체의 각 키-값 쌍을 항목으로 하는 배열을 생성하고, 이 배열에 대해 `map` 작업을 수행한다.<br/>\n",
    "- `mapValues` 함수\n",
    "    - `mapValues`는 특별히 객체의 값에 초점을 맞춘다.\n",
    "    - 이 함수는 객체의 각 값에 대해 작업을 수행하고, 결과로 **새 객체를 반환**한다. 즉, 각 키는 그대로 유지하되, 값은 변환된 새 값으로 구성된다.\n",
    "    - `mapValues`는 객체의 구조를 유지하면서 각 **값만 변환**하고자 할 때 유용하다.\n",
    "\n",
    "결론적으로, 객체의 구조를 유지하면서 값만 변경하고 싶을 때는 `mapValues`를 사용하는 것이 적합하다. 반면, 객체를 배열로 변환하거나, 객체의 구조를 중요시하지 않는 경우에는 `map`을 사용할 수 있다."
   ]
  }
 ],
 "metadata": {
  "kernelspec": {
   "display_name": "JavaScript (Node.js)",
   "language": "javascript",
   "name": "javascript"
  },
  "language_info": {
   "file_extension": ".js",
   "mimetype": "application/javascript",
   "name": "javascript",
   "version": "20.10.0"
  }
 },
 "nbformat": 4,
 "nbformat_minor": 2
}
