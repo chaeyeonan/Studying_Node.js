{
 "cells": [
  {
   "cell_type": "markdown",
   "metadata": {},
   "source": [
    "#### [map 함수](https://caolan.github.io/async/v3/docs.html#map)\n",
    "\n",
    "```jsx\n",
    "import map from 'async/map';\n",
    "\n",
    "map(coll, iteratee, callbackopt)\n",
    "```\n",
    "\n",
    "컬렉션 내의 각 항목에 대해 비동기 함수(**`iteratee`**)를 적용하여 새로운 컬렉션을 생성한다. 각 항목을 병렬로 처리하지만, 결과 배열은 원본 컬렉션의 순서와 동일하게 유지된다. \n",
    "\n",
    "| Name | Type | Description |\n",
    "| --- | --- | --- |\n",
    "| coll | Array, Iterable, AsyncIterable, Object | 순회할 컬렉션 |\n",
    "| iteratee | https://caolan.github.io/async/v3/global.html | 각 항목에 적용할 비동기 함수입니다. 이 함수는 각 항목과 콜백 함수를 인자로 받으며, 변환된 항목으로 작업을 완료해야 합니다. |\n",
    "| callback | function <optional> | 모든 iteratee 함수의 실행이 완료되었거나 오류가 발생했을 때 호출되는 콜백 함수입니다. 결과는 컬렉션에서 변환된 항목들의 배열입니다. 오류가 있을 경우 그 오류와 결과를 인자로 받습니다. |\n",
    "\n",
    "**반환값**\n",
    "\n",
    "- 모든 **`iteratee`** 함수가 완료되었을 때 결과 배열을 담은 콜백이 호출된다. 오류가 발생하면 즉시 메인 콜백이 오류와 함께 호출된다."
   ]
  },
  {
   "cell_type": "markdown",
   "metadata": {},
   "source": [
    "##### 1. callback 함수를 사용한 경우"
   ]
  },
  {
   "cell_type": "code",
   "execution_count": 1,
   "metadata": {},
   "outputs": [
    {
     "name": "stdout",
     "output_type": "stream",
     "text": [
      "변환된 항목들: [ 1, 4, 9, 16, 25 ]\n"
     ]
    }
   ],
   "source": [
    "const map = require('async/map');\n",
    "\n",
    "// 예제 배열\n",
    "const myArray = [1, 2, 3, 4, 5];\n",
    "\n",
    "// map 함수를 사용하여 배열의 각 항목을 비동기적으로 변환\n",
    "map(myArray, (item, callback) => {\n",
    "    // 예시로, 각 숫자를 제곱하는 비동기 작업을 수행\n",
    "    setTimeout(() => {\n",
    "        callback(null, item * item); // 비동기 작업 완료 후 콜백 호출\n",
    "    }, 1000);\n",
    "}, (err, results) => {\n",
    "    if (err) {\n",
    "        // 오류 처리\n",
    "        console.error('에러 발생:', err);\n",
    "    } else {\n",
    "        // 모든 항목이 성공적으로 변환된 경우\n",
    "        console.log('변환된 항목들:', results);\n",
    "    }\n",
    "});"
   ]
  },
  {
   "cell_type": "markdown",
   "metadata": {},
   "source": [
    "##### 2. Promise (then/catch) 를 사용한경우"
   ]
  },
  {
   "cell_type": "code",
   "execution_count": 2,
   "metadata": {},
   "outputs": [
    {
     "data": {
      "text/plain": [
       "Promise { <pending> }"
      ]
     },
     "execution_count": 2,
     "metadata": {},
     "output_type": "execute_result"
    },
    {
     "name": "stdout",
     "output_type": "stream",
     "text": [
      "result: [ 1, 4, 9, 16, 25 ]\n"
     ]
    }
   ],
   "source": [
    "map(myArray, (item, callback) => {\n",
    "    // 예시로, 각 숫자를 제곱하는 비동기 작업을 수행\n",
    "    setTimeout(() => {\n",
    "        callback(null, item * item); // 비동기 작업 완료 후 콜백 호출\n",
    "    }, 1000);\n",
    "})\n",
    ".then(result=>console.log(\"result:\", result))\n",
    ".catch(err=>console.log(\"err:\", err));"
   ]
  },
  {
   "cell_type": "markdown",
   "metadata": {},
   "source": [
    "##### 3. async/await 를 사용한 경우"
   ]
  },
  {
   "cell_type": "code",
   "execution_count": 4,
   "metadata": {},
   "outputs": [
    {
     "data": {
      "text/plain": [
       "Promise { <pending> }"
      ]
     },
     "execution_count": 4,
     "metadata": {},
     "output_type": "execute_result"
    },
    {
     "name": "stdout",
     "output_type": "stream",
     "text": [
      "결과: [ 1, 4, 9, 16, 25 ]\n"
     ]
    }
   ],
   "source": [
    "// 비동기 작업을 수행하는 함수\n",
    "async function asyncFunction(item) {\n",
    "    return new Promise((resolve) => {\n",
    "        setTimeout(() => {\n",
    "            resolve(item * item); // 예: 각 숫자를 제곱\n",
    "        }, 1000);\n",
    "    });\n",
    "}\n",
    "\n",
    "async function processArray(array) {\n",
    "    // 각 요소에 대해 비동기 함수를 호출하고, 결과를 배열로 모음\n",
    "    const results = await Promise.all(array.map(async (item) => {\n",
    "        return await asyncFunction(item);\n",
    "    }));\n",
    "\n",
    "    return results;\n",
    "}\n",
    "\n",
    "// 배열 처리 및 결과 출력\n",
    "async function main() {\n",
    "    const myArray1 = [1, 2, 3, 4, 5];\n",
    "    try {\n",
    "        const results = await processArray(myArray1);\n",
    "        console.log('결과:', results);\n",
    "    } catch (err) {\n",
    "        console.error('에러:', err);\n",
    "    }\n",
    "}\n",
    "\n",
    "main();\n"
   ]
  }
 ],
 "metadata": {
  "kernelspec": {
   "display_name": "JavaScript (Node.js)",
   "language": "javascript",
   "name": "javascript"
  },
  "language_info": {
   "file_extension": ".js",
   "mimetype": "application/javascript",
   "name": "javascript",
   "version": "20.10.0"
  }
 },
 "nbformat": 4,
 "nbformat_minor": 2
}
