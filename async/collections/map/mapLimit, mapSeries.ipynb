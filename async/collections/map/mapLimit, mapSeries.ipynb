{
 "cells": [
  {
   "cell_type": "markdown",
   "metadata": {},
   "source": [
    "#### [mapLimit 함수](https://caolan.github.io/async/v3/docs.html#mapLimit)\n",
    "\n",
    "```jsx\n",
    "mapLimit(coll, limit, iteratee, callbackopt)\n",
    "```\n",
    "\n",
    "`map()`과 동일하지만 동시에 실행할 수 있는 **항목의 개수가 한정적**이다\n",
    "\n",
    "#### [mapSeries 함수](https://caolan.github.io/async/v3/docs.html#mapSeries)\n",
    "\n",
    "```jsx\n",
    "mapSeries(coll, iteratee, callback(opt))\n",
    "```\n",
    "\n",
    "`map()`과 동일하지만 항목을 동시에 실행하지않고 **순차적으로 실행**한다. (이전거 끝나면 다음거)"
   ]
  }
 ],
 "metadata": {
  "language_info": {
   "name": "python"
  }
 },
 "nbformat": 4,
 "nbformat_minor": 2
}
