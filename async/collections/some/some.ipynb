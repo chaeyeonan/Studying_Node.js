{
 "cells": [
  {
   "cell_type": "markdown",
   "metadata": {},
   "source": [
    "#### [some 함수](https://caolan.github.io/async/v3/docs.html#some)\n",
    "\n",
    "```jsx\n",
    "import some from 'async/some';\n",
    "\n",
    "some(coll, iteratee, callbackopt)\n",
    "```\n",
    "\n",
    "주어진 컬렉션(배열, 반복 가능한 객체, AsyncIterable, 객체 등) 안의 항목들 중 적어도 하나가 비동기 테스트를 만족하는지 여부를 반환하는 함수\n",
    "\n",
    "| Name | Type | Description |\n",
    "| --- | --- | --- |\n",
    "| coll | Array, Iterable, AsyncIterable, Object | 탐색할 컬렉션 |\n",
    "| iteratee | [AsyncFunction](https://caolan.github.io/async/v3/global.html) | 각 항목에 적용될 비동기 진리 테스트 함수입니다. \n",
    "이 함수는 boolean 결과값으로 완료되어야 합니다. (항목, 콜백) 형식으로 호출 |\n",
    "| callback | function <optional> | 선택적입니다. iteratee 함수 중 하나라도 true를 반환하거나 모든 iteratee 함수가 완료되면 호출됩니다. 결과는 비동기 테스트 값에 따라 true 또는 false가 됩니다. (오류, 결과) 형식으로 호출됩니다. |\n",
    "\n",
    "**반환값**\n",
    "\n",
    "- 프로미스(Promise), 콜백이 제공되지 않은 경우 사용"
   ]
  }
 ],
 "metadata": {
  "language_info": {
   "name": "python"
  }
 },
 "nbformat": 4,
 "nbformat_minor": 2
}
