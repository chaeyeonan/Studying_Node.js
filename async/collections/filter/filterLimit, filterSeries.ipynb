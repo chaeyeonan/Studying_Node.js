{
 "cells": [
  {
   "cell_type": "markdown",
   "metadata": {},
   "source": [
    "#### [filterLimit 함수](https://caolan.github.io/async/v3/docs.html#filterLimit)\n",
    "\n",
    "```jsx\n",
    "filterLimit(coll, limit, iteratee, callbackopt)\n",
    "```\n",
    "\n",
    "`filter()`와 동일하지만 비동기작업을 할 수 있는 항목의 개수가 제한적\n",
    "\n",
    "#### [filterSeries 함수](https://caolan.github.io/async/v3/docs.html#filterSeries)\n",
    "\n",
    "```jsx\n",
    "filterSeries(coll, iteratee, callback(opt))\n",
    "```\n",
    "\n",
    "`filter()`와 동일하지만 비동기 함수 작업을 순차적으로 실행함"
   ]
  }
 ],
 "metadata": {
  "language_info": {
   "name": "python"
  }
 },
 "nbformat": 4,
 "nbformat_minor": 2
}
