{
 "cells": [
  {
   "cell_type": "markdown",
   "metadata": {},
   "source": [
    "#### [filter 함수](https://caolan.github.io/async/v3/docs.html#filter)\n",
    "\n",
    "```jsx\n",
    "filter(coll, iteratee, callbackopt)\n",
    "```\n",
    "\n",
    "주어진 컬렉션 내의 모든 값에 대해 비동기적인 참(true) 테스트를 수행하고, 이 테스트를 통과하는 모든 값들로 구성된 새로운 배열을 반환한다. 이 작업은 병렬로 수행되지만, 결과 배열은 원본 컬렉션의 순서와 동일하게 유지된다.\n",
    "\n",
    "| Name | Type | Description |\n",
    "| --- | --- | --- |\n",
    "| coll | Array, Iterable, AsyncIterable, Object | 순회할 컬렉션 |\n",
    "| iteratee | function | 각 항목에 적용할 참 테스트 함수입니다. 이 함수는 항목과 콜백 함수를 인자로 받으며, 비동기 작업이 완료된 후 콜백 함수에 참/거짓 값을 인자로 전달해야 합니다. |\n",
    "| callback | function <optional> | 모든 iteratee 함수의 실행이 완료되었거나 오류가 발생했을 때 호출되는 콜백 함수입니다. 결과는 테스트를 통과한 항목들의 배열입니다. 오류가 있을 경우 그 오류와 결과를 인자로 받습니다. |\n",
    "\n",
    "**반환값**\n",
    "\n",
    "- 콜백이 제공되지 않는 경우 프로미스를 반환"
   ]
  },
  {
   "cell_type": "code",
   "execution_count": 1,
   "metadata": {},
   "outputs": [
    {
     "name": "stdout",
     "output_type": "stream",
     "text": [
      "필터링된 결과: [ 2, 4 ]\n"
     ]
    }
   ],
   "source": [
    "const filter= require('async/filter');\n",
    "\n",
    "// 예를 들어, 배열 내 특정 조건을 만족하는 항목만 필터링하는 경우\n",
    "const myArray = [1, 2, 3, 4, 5];\n",
    "\n",
    "filter(myArray, (item, callback) => {\n",
    "    // 비동기 작업을 수행하여 조건을 확인\n",
    "    setTimeout(() => {\n",
    "        callback(null, item % 2 === 0); // 짝수인 경우에만 참 반환\n",
    "    }, 1000);\n",
    "}, (err, results) => {\n",
    "    if (err) {\n",
    "        console.error('에러 발생:', err);\n",
    "    } else {\n",
    "        console.log('필터링된 결과:', results); // 예: [2, 4]\n",
    "    }\n",
    "});"
   ]
  }
 ],
 "metadata": {
  "kernelspec": {
   "display_name": "JavaScript (Node.js)",
   "language": "javascript",
   "name": "javascript"
  },
  "language_info": {
   "file_extension": ".js",
   "mimetype": "application/javascript",
   "name": "javascript",
   "version": "20.10.0"
  }
 },
 "nbformat": 4,
 "nbformat_minor": 2
}
